import matplotlib.pyplot as plt
import numpy as np
from numpy import pi
import pandas as pd

def cordic(mag,angle,res):
    # resolution (bit)
    n = res
    # make the LUT of the atan(2^-i) in RAD
    lut = [np.arctan(2**-i) for i in range(n-1)]
    
    
    if angle <= -pi/2.0:
        k = 1
        angle = angle+pi
    elif angle >= pi/2.0:
        k = -1
        angle = angle-pi
    else:
        k = 1

    z = np.ones(n)*angle
    x = np.zeros(n)
    y = np.zeros(n)
    
    x[0] = mag
    for i in range(n-1):
        if z[i] < 0:
            x[i+1] = x[i] + y[i]/2**i
            y[i+1] = y[i] - x[i]/2**i
            z[i+1] = z[i] + lut[i]
        else:
            x[i+1] = x[i] - y[i]/2**i
            y[i+1] = y[i] + x[i]/2**i
            z[i+1] = z[i] - lut[i]
    if(k > 0):
        sin = x[-1]
        cos = -y[-1]
    else:
        sin = -x[-1]
        cos = y[-1]
    return sin,cos

plt.style.use('bmh')
t = np.linspace(0,0.02,1000)
angle = 2*pi*50*t-pi/2

df = pd.DataFrame()
df['t'] = t
df['angle'] = angle

for res in range(3,15):
    sin = []
    cos = []
    for ang in angle:
        sin.append(cordic(1,ang,res)[0])
        cos.append(cordic(1,ang,res)[1])
    df[f'sin {res}'] = sin
    df[f'cos {res}'] = cos

fig,p = plt.subplots(3,3,sharex=True,sharey=True)
fig.set_figheight(10)
fig.set_figwidth(15)
fig.tight_layout()
for j in range(3):
    for i in range(3):
        df.plot(ax=p[j][i],x='t',y=[f'sin {(i+(j+1)*3)}',f'cos {(i+(j+1)*3)}'],xlim=(0,0.02),linewidth=2)
        p[j][i].legend(loc='upper right')
